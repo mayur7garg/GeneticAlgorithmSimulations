{
 "cells": [
  {
   "cell_type": "code",
   "execution_count": 1,
   "metadata": {},
   "outputs": [],
   "source": [
    "from pathlib import Path\n",
    "\n",
    "import numpy as np\n",
    "from matplotlib import pyplot as plt\n",
    "from PIL import Image\n",
    "\n",
    "from models import Brain, Car\n",
    "from configs import Constants"
   ]
  },
  {
   "cell_type": "code",
   "execution_count": 2,
   "metadata": {},
   "outputs": [],
   "source": [
    "Path(\"src\", \"simulations\", \"images\").mkdir(parents = True, exist_ok = True)"
   ]
  },
  {
   "cell_type": "code",
   "execution_count": 3,
   "metadata": {},
   "outputs": [],
   "source": [
    "car = Car(\n",
    "    Brain((2, 2), 4, 2)\n",
    ")\n",
    "\n",
    "image_paths = []\n",
    "\n",
    "for i in range(100):\n",
    "    car.move()\n",
    "\n",
    "    plt.figure(figsize = (8, 8), dpi = 120)\n",
    "\n",
    "    ax = plt.gcf().gca()\n",
    "    ax.add_patch(\n",
    "        plt.Circle(car.position, Constants.CAR_RADIUS, fill = False)\n",
    "    )\n",
    "    yStart = car.position[1] - 3\n",
    "    yEnd = yStart + (Constants.WALL_DISTANCE * 2)\n",
    "\n",
    "    plt.hlines(0, -Constants.WALL_DISTANCE, Constants.WALL_DISTANCE)\n",
    "    \n",
    "    plt.xlim((-Constants.WALL_DISTANCE, Constants.WALL_DISTANCE))\n",
    "    plt.ylim((yStart, yEnd))\n",
    "    plt.xticks([])\n",
    "    ax.set_yticklabels([])\n",
    "    plt.grid(True)\n",
    "\n",
    "    img_path = Path(\"src\", \"simulations\", \"images\", f\"{i + 1:>04}.png\")\n",
    "    plt.savefig(img_path, bbox_inches = \"tight\", dpi = 120)\n",
    "    image_paths.append(img_path)\n",
    "\n",
    "    plt.close()\n",
    "\n",
    "imgs = [\n",
    "    Image.open(img_path) for img_path in image_paths\n",
    "]\n",
    "\n",
    "imgs[0].save(\n",
    "    fp = Path(\"src\", \"simulations\", \"test.gif\"), \n",
    "    format = 'GIF', \n",
    "    append_images = imgs[1:],\n",
    "    save_all = True,\n",
    "    duration = 50)\n",
    "\n",
    "for fp in Path(\"src\", \"simulations\", \"images\").glob(\"*.png\"):\n",
    "    fp.unlink()"
   ]
  },
  {
   "cell_type": "code",
   "execution_count": 5,
   "metadata": {},
   "outputs": [
    {
     "name": "stdout",
     "output_type": "stream",
     "text": [
      "Car(position = [9.5, 13.474654733081554], velocity = [0.48805511712544214, 0.2541247009191973])\n"
     ]
    },
    {
     "ename": "TypeError",
     "evalue": "__str__ returned non-string (type NoneType)",
     "output_type": "error",
     "traceback": [
      "\u001b[0;31m---------------------------------------------------------------------------\u001b[0m",
      "\u001b[0;31mTypeError\u001b[0m                                 Traceback (most recent call last)",
      "\u001b[1;32m/src/car.ipynb Cell 4\u001b[0m line \u001b[0;36m1\n\u001b[0;32m----> <a href='vscode-notebook-cell://attached-container%2B7b22636f6e7461696e65724e616d65223a222f6175746f6e6f6d6f75732d636172227d/src/car.ipynb#W3sdnNjb2RlLXJlbW90ZQ%3D%3D?line=0'>1</a>\u001b[0m \u001b[39mprint\u001b[39;49m(car)\n",
      "\u001b[0;31mTypeError\u001b[0m: __str__ returned non-string (type NoneType)"
     ]
    }
   ],
   "source": [
    "print(car)"
   ]
  },
  {
   "cell_type": "code",
   "execution_count": null,
   "metadata": {},
   "outputs": [],
   "source": []
  }
 ],
 "metadata": {
  "kernelspec": {
   "display_name": "Python 3",
   "language": "python",
   "name": "python3"
  },
  "language_info": {
   "codemirror_mode": {
    "name": "ipython",
    "version": 3
   },
   "file_extension": ".py",
   "mimetype": "text/x-python",
   "name": "python",
   "nbconvert_exporter": "python",
   "pygments_lexer": "ipython3",
   "version": "3.11.6"
  }
 },
 "nbformat": 4,
 "nbformat_minor": 2
}
